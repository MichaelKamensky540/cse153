{
 "cells": [
  {
   "cell_type": "markdown",
   "id": "1cd0b9a1-d881-4d2c-b50f-2fd9e51a2e93",
   "metadata": {},
   "source": [
    "The important idea for the gate keeper to work is to have custom rules for suricata to monitor what and how much traffic is moving throught the net work. I can't modify fire walls with suricata since it is and Intrusion Detction System but I can put in rules for suricata so it can read lots of instances in the logs and then use an active \"firewall\" pyhton script to ban ips that are trying to flood the system. "
   ]
  },
  {
   "cell_type": "markdown",
   "id": "c88a671f-2d4d-4bd2-a855-db9e9bf9468a",
   "metadata": {},
   "source": [
    "Suricata rules that are added to /etc/suricata/rules/custom.rules :"
   ]
  },
  {
   "cell_type": "markdown",
   "id": "70661917-96b8-4140-bd50-eaec182266ed",
   "metadata": {},
   "source": [
    "# SYN Flood Detection Rule\n",
    "alert tcp any any -> any any (msg:\"SYN Flood Detected\"; flow:stateless; flags:S; threshold: type both, track by_src, count 100, seconds 1; sid:1000001; rev:1;)"
   ]
  },
  {
   "cell_type": "markdown",
   "id": "527f3f1a-45a7-449a-9425-e433e9ddaf27",
   "metadata": {},
   "source": [
    "# UDP Flood Detection Rule\n",
    "alert udp any any -> any any (msg:\"UDP Flood Detected\"; flow:stateless; threshold: type both, track by_src, count 1000, seconds 1; sid:1000002; rev:1;)"
   ]
  },
  {
   "cell_type": "markdown",
   "id": "ef6d43b9-bca3-480e-98c3-c60216b0e0c1",
   "metadata": {},
   "source": [
    "This is the start of the Gate Keeper Extra credit. The goal of this assignment is to use suricata to monitor traffic and to rate limit the number of syn connections to my own computer with my own ip address which is 192.168.0.184/24, but when running the code on your own please change to your own ip addr after downloading and enabling suricata."
   ]
  },
  {
   "cell_type": "markdown",
   "id": "879a09bc-09c7-4407-9a38-b4c2d1325b36",
   "metadata": {},
   "source": [
    "To make sure that suricata correctly loads follow instructions from Project2_part2.2.ipynb and use this essential command to read from the right interface and to load the correct config file\n",
    "sudo suricata -i virbr0 -c //etc/suricata/suricata.yaml"
   ]
  },
  {
   "cell_type": "code",
   "execution_count": 2,
   "id": "fe1b2661-9bc6-4be0-893e-6629993ec8e4",
   "metadata": {},
   "outputs": [],
   "source": [
    "import json\n",
    "import subprocess\n",
    "import time\n",
    "from collections import defaultdict\n",
    "import threading"
   ]
  },
  {
   "cell_type": "markdown",
   "id": "30f2a5e5-97df-45de-818e-9c4324482315",
   "metadata": {},
   "source": [
    "The strategy that we will be using is that we will be reading the suricata log to then decide what actions to take"
   ]
  },
  {
   "cell_type": "code",
   "execution_count": 3,
   "id": "738ad837-52eb-445d-833e-5a7806253990",
   "metadata": {},
   "outputs": [],
   "source": [
    "# Path to Suricata's eve.json log file\n",
    "EVE_LOG_PATH = \"/var/log/suricata/eve.json\"\n",
    "\n",
    "# Thresholds for blocking (adjust based on your needs)\n",
    "SYN_FLOOD_THRESHOLD = 100  # Number of SYN packets per second\n",
    "UDP_FLOOD_THRESHOLD = 1000  # Number of UDP packets per second\n",
    "TIME_WINDOW = 1  # Time window in seconds\n",
    "\n",
    "# Track IPs and their packet counts\n",
    "ip_syn_count = defaultdict(int)\n",
    "ip_udp_count = defaultdict(int)"
   ]
  },
  {
   "cell_type": "markdown",
   "id": "c92b29ec-d1f1-4bda-ab48-865eff01b6bd",
   "metadata": {},
   "source": [
    "using ip tabels we will block ips  "
   ]
  },
  {
   "cell_type": "code",
   "execution_count": 4,
   "id": "ee1c7d73-7f2e-477b-a065-d10d74593d59",
   "metadata": {},
   "outputs": [],
   "source": [
    "def block_ip(ip):\n",
    "    \"\"\"Block an IP address using iptables.\"\"\"\n",
    "    try:\n",
    "        subprocess.run([\"iptables\", \"-A\", \"INPUT\", \"-s\", ip, \"-j\", \"DROP\"], check=True)\n",
    "        print(f\"Blocked IP: {ip}\")\n",
    "    except subprocess.CalledProcessError as e:\n",
    "        print(f\"Failed to block IP {ip}: {e}\")"
   ]
  },
  {
   "cell_type": "markdown",
   "id": "9fa7575e-cab2-4fc8-b549-30cbf480f2d5",
   "metadata": {},
   "source": [
    "now that we have code to block and unblock ips we now need to monitor the logs to see who should be blocked and when "
   ]
  },
  {
   "cell_type": "code",
   "execution_count": 5,
   "id": "6e39689b-b6ef-4d8d-b295-eb5fe1f25e9e",
   "metadata": {},
   "outputs": [],
   "source": [
    "def monitor_log():\n",
    "    \"\"\"Monitor the Suricata eve.json log file for flood alerts.\"\"\"\n",
    "    with open(EVE_LOG_PATH, \"r\") as logfile:\n",
    "        logfile.seek(0, 2)  # Move to the end of the file\n",
    "        while True:\n",
    "            line = logfile.readline()\n",
    "            if line:\n",
    "                try:\n",
    "                    event = json.loads(line)\n",
    "                    if event[\"event_type\"] == \"alert\":\n",
    "                        alert = event[\"alert\"]\n",
    "                        src_ip = event[\"src_ip\"]\n",
    "                        if \"SYN Flood Detected\" in alert[\"signature\"]:\n",
    "                            ip_syn_count[src_ip] += 1\n",
    "                        elif \"UDP Flood Detected\" in alert[\"signature\"]:\n",
    "                            ip_udp_count[src_ip] += 1\n",
    "                except json.JSONDecodeError:\n",
    "                    continue\n",
    "            else:\n",
    "                time.sleep(0.1)  # Sleep briefly to avoid high CPU usage\n",
    "\n",
    "def check_thresholds():\n",
    "    \"\"\"Check if any IPs have exceeded the flood thresholds.\"\"\"\n",
    "    while True:\n",
    "        for ip, count in ip_syn_count.items():\n",
    "            if count >= SYN_FLOOD_THRESHOLD:\n",
    "                block_ip(ip)\n",
    "                ip_syn_count[ip] = 0  # Reset the count after blocking\n",
    "        for ip, count in ip_udp_count.items():\n",
    "            if count >= UDP_FLOOD_THRESHOLD:\n",
    "                block_ip(ip)\n",
    "                ip_udp_count[ip] = 0  # Reset the count after blocking\n",
    "        time.sleep(TIME_WINDOW)"
   ]
  },
  {
   "cell_type": "markdown",
   "id": "23a770ab-d2ca-4586-901d-ec01e7f1417a",
   "metadata": {},
   "source": [
    "now we just have to run the code to make it active"
   ]
  },
  {
   "cell_type": "code",
   "execution_count": 6,
   "id": "f1dddd01-90ce-41ff-994e-5436200ab296",
   "metadata": {},
   "outputs": [],
   "source": [
    "def main():\n",
    "    \"\"\"Main function to start the script.\"\"\"\n",
    "    # Start the log monitoring thread\n",
    "    log_thread = threading.Thread(target=monitor_log)\n",
    "    log_thread.daemon = True\n",
    "    log_thread.start()\n",
    "\n",
    "    # Start the threshold checking thread\n",
    "    threshold_thread = threading.Thread(target=check_thresholds)\n",
    "    threshold_thread.daemon = True\n",
    "    threshold_thread.start()\n",
    "\n",
    "    # Keep the main thread alive\n",
    "    try:\n",
    "        while True:\n",
    "            time.sleep(1)\n",
    "    except KeyboardInterrupt:\n",
    "        print(\"Script terminated by user.\")"
   ]
  },
  {
   "cell_type": "code",
   "execution_count": null,
   "id": "24207efb-1da6-4825-98cf-cccb41f2799d",
   "metadata": {},
   "outputs": [
    {
     "name": "stdout",
     "output_type": "stream",
     "text": [
      "Blocked IP: 192.168.124.2\n"
     ]
    }
   ],
   "source": [
    "# Call the main function to start the script\n",
    "main()"
   ]
  },
  {
   "cell_type": "raw",
   "id": "aa495aa1-7124-48d8-8fe2-505e54f2b610",
   "metadata": {},
   "source": [
    "Hey this might glitch please export to indivdual python file and run with sudo to make it work, if you run main and nothing happens the notebook is glitched but the code is correct"
   ]
  },
  {
   "cell_type": "code",
   "execution_count": null,
   "id": "8654dc7f-1ac7-4539-a842-af7e29c3c123",
   "metadata": {},
   "outputs": [],
   "source": []
  }
 ],
 "metadata": {
  "kernelspec": {
   "display_name": "Python 3 (ipykernel)",
   "language": "python",
   "name": "python3"
  },
  "language_info": {
   "codemirror_mode": {
    "name": "ipython",
    "version": 3
   },
   "file_extension": ".py",
   "mimetype": "text/x-python",
   "name": "python",
   "nbconvert_exporter": "python",
   "pygments_lexer": "ipython3",
   "version": "3.11.11"
  }
 },
 "nbformat": 4,
 "nbformat_minor": 5
}
