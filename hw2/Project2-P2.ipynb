{
 "cells": [
  {
   "cell_type": "markdown",
   "metadata": {},
   "source": [
    "# Introduction to SYN Scanning\n",
    "\n",
    "## Lab Objective\n",
    "\n",
    "In this lab, we are going to implement a tool to send and receive SYN scans (similar to NMap). The primary target is the IP address of cse153.ramakrishnansr.com and selected ports. You will learn how to:\n",
    "\n",
    "- Craft and send SYN requests\n",
    "- Receive a SYN-ACK response\n",
    "\n",
    "Note: You will need to run this notebook with root privilege to send and receive packets. "
   ]
  },
  {
   "cell_type": "code",
   "execution_count": 24,
   "metadata": {},
   "outputs": [],
   "source": [
    "#import all the required fields. \n",
    "from scapy.all import *\n"
   ]
  },
  {
   "cell_type": "markdown",
   "metadata": {},
   "source": [
    "## Set up the targets"
   ]
  },
  {
   "cell_type": "code",
   "execution_count": 25,
   "metadata": {},
   "outputs": [],
   "source": [
    "# Target IP and port range\n",
    "target_ip = \"44.243.113.123\"  # Replace with the target IP address from the DNS Guardian\n",
    "#target_ip = \"192.168.124.1\"  # my personal ip going to attack my own computer\n",
    "start_port = 13370  # Replace with the starting port from the DNS Guardian\n",
    "end_port = 13380  # Replace with the ending port from the DNS Guardian\n",
    "timeout = 3  # Timeout in seconds to wait for a response"
   ]
  },
  {
   "cell_type": "markdown",
   "metadata": {},
   "source": [
    "## Perform the SYN scan"
   ]
  },
  {
   "cell_type": "code",
   "execution_count": 26,
   "metadata": {},
   "outputs": [],
   "source": [
    "# Function to perform SYN scan on a single port\n",
    "def scan_port(port):\n",
    "    try:\n",
    "        pass\n",
    "        # Create a SYN packet\n",
    "        ip = IP(dst=target_ip)\n",
    "        tcp = TCP(dport=port, flags=\"S\")\n",
    "        syn_packet = ip / tcp\n",
    "\n",
    "        # Send the SYN packet and wait for a response\n",
    "        send(syn_packet, verbose=False)\n",
    "\n",
    "    \n",
    "        # Check if a response is received\n",
    "        response = sr1(syn_packet, timeout=2, verbose=False)\n",
    "        if response and response.haslayer(TCP):\n",
    "            if response[TCP].flags == 0x12: \n",
    "                print(f\"Received SYN-ACK on port {port}\")\n",
    "        \n",
    "    except Exception as e:\n",
    "        print(f\"Error scanning port {port}: {e}\")\n",
    "\n",
    "# Main function to scan a range of ports\n",
    "def syn_scan():\n",
    "    print(f\"Starting SYN scan on {target_ip} for ports {start_port}-{end_port}\")\n",
    "    for port in range(start_port, end_port + 1):\n",
    "        scan_port(port)\n",
    "    print(\"SYN scan completed.\")\n"
   ]
  },
  {
   "cell_type": "code",
   "execution_count": 27,
   "metadata": {},
   "outputs": [
    {
     "name": "stdout",
     "output_type": "stream",
     "text": [
      "Starting SYN scan on 44.243.113.123 for ports 13370-13380\n",
      "SYN scan completed.\n"
     ]
    }
   ],
   "source": [
    "syn_scan()"
   ]
  },
  {
   "cell_type": "markdown",
   "metadata": {},
   "source": [
    "## By this point, you know which port is open. the attacker is using this port to store some secrets necessary for their operations! Provide this port to the application bodyguard so that they can sniff it out! "
   ]
  },
  {
   "cell_type": "markdown",
   "metadata": {},
   "source": []
  }
 ],
 "metadata": {
  "kernelspec": {
   "display_name": "Python 3 (ipykernel)",
   "language": "python",
   "name": "python3"
  },
  "language_info": {
   "codemirror_mode": {
    "name": "ipython",
    "version": 3
   },
   "file_extension": ".py",
   "mimetype": "text/x-python",
   "name": "python",
   "nbconvert_exporter": "python",
   "pygments_lexer": "ipython3",
   "version": "3.11.11"
  }
 },
 "nbformat": 4,
 "nbformat_minor": 4
}
