{
 "cells": [
  {
   "cell_type": "markdown",
   "id": "9361dec1-0bad-4ba5-940a-0bd59068ff00",
   "metadata": {},
   "source": [
    "The instructions provided to us are vague so I could use Suricata to employ the rules by iteslf, but we believe that would be agains the point since you the insrtucors would have to follow our exact Suricata set up. Addtionally Suricata does not have a python api the only way to use it with pyhton is to read the logs and that is what we did, but we undertsand that it is not nessary but we need to prove our understanding of the concept. "
   ]
  },
  {
   "cell_type": "markdown",
   "id": "bbc4e3b4-20b8-408e-926a-01b5ae52bf6e",
   "metadata": {},
   "source": [
    "Before we can even start we need to set up suricata correctly please do the following in config file //etc/suricata/suricata.yaml or euqivalent you need to change two lines in af-packet: <correct interface> and rules-files: you need to add a - custom.rules\n",
    "you will also need to create that file in //var/lib/suricata/rules and you will add the line bellow"
   ]
  },
  {
   "cell_type": "code",
   "execution_count": 8,
   "id": "3d620bb5-171c-4c28-8ad7-ba4cd0c23a9a",
   "metadata": {},
   "outputs": [
    {
     "ename": "SyntaxError",
     "evalue": "invalid syntax (936203676.py, line 1)",
     "output_type": "error",
     "traceback": [
      "\u001b[0;36m  Cell \u001b[0;32mIn[8], line 1\u001b[0;36m\u001b[0m\n\u001b[0;31m    alert tcp $HOME_NET any -> $HOME_NET any (msg:\"Possible Syn Scan\"; flags:S; threshold:type both, track by_src, count 10, seconds 10; sid:1000002; rev:1;)\u001b[0m\n\u001b[0m          ^\u001b[0m\n\u001b[0;31mSyntaxError\u001b[0m\u001b[0;31m:\u001b[0m invalid syntax\n"
     ]
    }
   ],
   "source": [
    "alert tcp $HOME_NET any -> $HOME_NET any (msg:\"Possible Syn Scan\"; flags:S; threshold:type both, track by_src, count 10, seconds 10; sid:1000002; rev:1;)\n"
   ]
  },
  {
   "cell_type": "markdown",
   "id": "5c7f5a85-ad98-4010-b467-9d9dbb12135d",
   "metadata": {},
   "source": [
    "finally to make sure suircata is running update it, then run this command"
   ]
  },
  {
   "cell_type": "code",
   "execution_count": null,
   "id": "5d366678-89b7-487a-a6d1-5cb120cb814d",
   "metadata": {},
   "outputs": [],
   "source": [
    "sudo suricata -i virbr0 -c //etc/suricata/suricata.yaml"
   ]
  },
  {
   "cell_type": "markdown",
   "id": "f8f54913-c430-43fb-854c-63221edf2e01",
   "metadata": {},
   "source": [
    "replace virbr0 with what every iterface that you see fit, fianlly restart and suricata is ready"
   ]
  },
  {
   "cell_type": "raw",
   "id": "a3482741-6ae5-440b-bebf-a338a722ec1b",
   "metadata": {},
   "source": [
    "Use this python script you can set the the valid ports in main and if an invalid port is called then src ip is banned using nfttables a rule is created to drop all packets with that ip"
   ]
  },
  {
   "cell_type": "code",
   "execution_count": null,
   "id": "97cfcfcc-e43d-4a08-a2d6-960755e97f3a",
   "metadata": {},
   "outputs": [],
   "source": [
    "import json\n",
    "import subprocess\n",
    "\n",
    "def ensure_nftables_table_exists():\n",
    "    \"\"\"\n",
    "    Ensures that the nftables 'filter' table and 'input' chain exist.\n",
    "    Uses the 'ip' family instead of 'inet' to avoid conflicts with existing configurations.\n",
    "    \"\"\"\n",
    "    try:\n",
    "        # Check if the 'filter' table exists under the 'ip' family\n",
    "        result = subprocess.run(['sudo', 'nft', 'list tables'], capture_output=True, text=True, check=True)\n",
    "        if 'filter' not in result.stdout:\n",
    "            print(\"Creating 'filter' table in 'ip' family...\")\n",
    "            subprocess.run(['sudo', 'nft', 'add', 'table', 'ip', 'filter'], check=True)\n",
    "\n",
    "        # Check if the 'input' chain exists in the 'filter' table\n",
    "        result = subprocess.run(['sudo', 'nft', 'list ruleset'], capture_output=True, text=True, check=True)\n",
    "        if 'chain input' not in result.stdout:\n",
    "            print(\"Creating 'input' chain in 'filter' table...\")\n",
    "            subprocess.run([\n",
    "                'sudo', 'nft', 'add', 'chain', 'ip', 'filter', 'input',\n",
    "                '{ type filter hook input priority 0; }'\n",
    "            ], check=True)\n",
    "\n",
    "    except subprocess.CalledProcessError as e:\n",
    "        print(f\"Error ensuring nftables table: {e}\")\n",
    "        if e.stderr:\n",
    "            print(f\"stderr: {e.stderr.decode()}\")\n",
    "        else:\n",
    "            print(\"stderr: None\")\n",
    "\n",
    "def block_ip_with_nft(ip):\n",
    "    try:\n",
    "        print(f\"Blocking IP: {ip} using nftables\")\n",
    "\n",
    "        # Ensure the correct nftables table and chain exist before adding the rule\n",
    "        ensure_nftables_table_exists()\n",
    "\n",
    "        # Add rule to block the IP\n",
    "        result = subprocess.run([\n",
    "            'sudo', 'nft', 'add', 'rule', 'ip', 'filter', 'input', 'ip', 'saddr', ip, 'drop'\n",
    "        ], check=True, capture_output=True)\n",
    "\n",
    "        print(f\"IP {ip} blocked successfully.\")\n",
    "        print(f\"nftables result: {result.stdout.decode()}\")\n",
    "\n",
    "    except subprocess.CalledProcessError as e:\n",
    "        print(f\"Error applying nftables rule: {e}\")\n",
    "        if e.stderr:\n",
    "            print(f\"stderr: {e.stderr.decode()}\")\n",
    "        else:\n",
    "            print(\"stderr: None\")\n",
    "\n",
    "def read_json_file(file_path, allowed_ports):\n",
    "    ips_to_block = []  # List of IPs to block\n",
    "\n",
    "    try:\n",
    "        with open(file_path, 'r') as file:\n",
    "            for line in file:\n",
    "                try:\n",
    "                    entry = json.loads(line.strip())\n",
    "                    if entry.get(\"event_type\") == \"alert\" and entry.get(\"alert\", {}).get(\"signature\") == \"Possible Syn Scan\":\n",
    "                        src_ip = entry.get(\"src_ip\")\n",
    "                        dst_port = entry.get(\"dest_port\")\n",
    "                        if dst_port not in allowed_ports:\n",
    "                            if src_ip not in ips_to_block:  # Avoid duplicate IPs\n",
    "                                ips_to_block.append(src_ip)\n",
    "                except json.JSONDecodeError as e:\n",
    "                    print(f\"Error decoding JSON: {e}\")\n",
    "\n",
    "    except Exception as e:\n",
    "        print(f\"Error reading JSON file: {e}\")\n",
    "\n",
    "    # Block IPs that are found in the list\n",
    "    for ip in ips_to_block:\n",
    "        block_ip_with_nft(ip)\n",
    "\n",
    "def main():\n",
    "    # Specify the path to your Suricata eve.json log file\n",
    "    eve_log_path = '/var/log/suricata/eve.json'\n",
    "    allowed_ports = [\"22\",\"53\",\"80\"]\n",
    "    # Read the log and block IPs\n",
    "    read_json_file(eve_log_path, allowed_ports)\n",
    "\n"
   ]
  },
  {
   "cell_type": "code",
   "execution_count": 9,
   "id": "6a216c88-ff3b-43b4-8b60-4107dce10d60",
   "metadata": {},
   "outputs": [
    {
     "name": "stdout",
     "output_type": "stream",
     "text": [
      "Blocking IP: 192.168.124.139 using nftables\n",
      "IP 192.168.124.139 blocked successfully.\n",
      "nftables result: \n"
     ]
    }
   ],
   "source": [
    "main()"
   ]
  },
  {
   "cell_type": "markdown",
   "id": "901b083c-c698-4e64-ab2f-8f110a0db6d7",
   "metadata": {},
   "source": [
    "Hey this might glitch please export to indivdual python file and run with sudo to make it work, if you run main and nothing happens the notebook is glitched but the code is correct"
   ]
  },
  {
   "cell_type": "code",
   "execution_count": null,
   "id": "57117708-7e31-4ba4-b483-1d53c0a52dfa",
   "metadata": {},
   "outputs": [],
   "source": []
  }
 ],
 "metadata": {
  "kernelspec": {
   "display_name": "Python 3 (ipykernel)",
   "language": "python",
   "name": "python3"
  },
  "language_info": {
   "codemirror_mode": {
    "name": "ipython",
    "version": 3
   },
   "file_extension": ".py",
   "mimetype": "text/x-python",
   "name": "python",
   "nbconvert_exporter": "python",
   "pygments_lexer": "ipython3",
   "version": "3.11.11"
  }
 },
 "nbformat": 4,
 "nbformat_minor": 5
}
